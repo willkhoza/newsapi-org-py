{
 "metadata": {
  "language_info": {
   "codemirror_mode": {
    "name": "ipython",
    "version": 3
   },
   "file_extension": ".py",
   "mimetype": "text/x-python",
   "name": "python",
   "nbconvert_exporter": "python",
   "pygments_lexer": "ipython3",
   "version": "3.7.6-final"
  },
  "orig_nbformat": 2,
  "kernelspec": {
   "name": "python37664bitbaseconda7be171fd1c9a4d599a4be82c7804ccd1",
   "display_name": "Python 3.7.6 64-bit ('base': conda)"
  }
 },
 "nbformat": 4,
 "nbformat_minor": 2,
 "cells": [
  {
   "cell_type": "code",
   "execution_count": 1,
   "metadata": {},
   "outputs": [],
   "source": [
    "from db import read_sql\n",
    "from db import Postgres"
   ]
  },
  {
   "cell_type": "code",
   "execution_count": 2,
   "metadata": {},
   "outputs": [],
   "source": [
    "import requests"
   ]
  },
  {
   "cell_type": "code",
   "execution_count": 3,
   "metadata": {},
   "outputs": [],
   "source": [
    "import pandas as pd"
   ]
  },
  {
   "cell_type": "code",
   "execution_count": 4,
   "metadata": {},
   "outputs": [],
   "source": [
    "psql = Postgres()\n",
    "conn = psql.connect()"
   ]
  },
  {
   "cell_type": "code",
   "execution_count": null,
   "metadata": {},
   "outputs": [],
   "source": [
    "\"https://gnews.io/api/v3/top-news?token=API-Token\""
   ]
  },
  {
   "cell_type": "code",
   "execution_count": 46,
   "metadata": {},
   "outputs": [],
   "source": [
    "\n",
    "url = ('https://gnews.io/api/v3/'\n",
    "'top-news?'\n",
    "'country=za&'\n",
    "'token=6726f404d83418548d0d6795159943c0')\n",
    "response = requests.get(url)"
   ]
  },
  {
   "cell_type": "code",
   "execution_count": 47,
   "metadata": {},
   "outputs": [
    {
     "output_type": "execute_result",
     "data": {
      "text/plain": "<Response [200]>"
     },
     "metadata": {},
     "execution_count": 47
    }
   ],
   "source": [
    "response.json().keys()"
   ]
  },
  {
   "cell_type": "code",
   "execution_count": 50,
   "metadata": {},
   "outputs": [
    {
     "output_type": "execute_result",
     "data": {
      "text/plain": "                                               title description  \\\n0          Broadcasting legend Bob Mabena dies at 51               \n1  Guptas: Fugitive family now selling herbal med...               \n2      No human rights abuse in Zimbabwe: Mnangangwa               \n3  Ramaphosa: We will speed up process of giving ...               \n4  Mauritius struggles to contain oil spill pollu...               \n5  Mamelodi Sundowns vs Orlando Pirates: Five pla...               \n6  Covid-19 corruption: 'ANC going through a sham...               \n7  MEC Lebogang Maile eats humble pie, apologises...               \n8  Mkhize denies owning PPE company, warns public...               \n9  6 670 new Covid-19 cases brings SA's cumulativ...               \n\n                                                 url image  \\\n0  https://news.google.com/__i/rss/rd/articles/CB...  None   \n1  https://news.google.com/__i/rss/rd/articles/CB...  None   \n2  https://news.google.com/__i/rss/rd/articles/CB...  None   \n3  https://news.google.com/__i/rss/rd/articles/CB...  None   \n4  https://news.google.com/__i/rss/rd/articles/CB...  None   \n5  https://news.google.com/__i/rss/rd/articles/CB...  None   \n6  https://news.google.com/__i/rss/rd/articles/CB...  None   \n7  https://news.google.com/__i/rss/rd/articles/CB...  None   \n8  https://news.google.com/__i/rss/rd/articles/CB...  None   \n9  https://news.google.com/__i/rss/rd/articles/CB...  None   \n\n               publishedAt                                             source  \n0  2020-08-10 15:27:32 UTC    {'name': 'eNCA', 'url': 'https://www.enca.com'}  \n1  2020-08-10 09:00:31 UTC  {'name': 'News24', 'url': 'https://www.news24....  \n2  2020-08-10 11:50:00 UTC  {'name': 'SowetanLIVE', 'url': 'https://www.so...  \n3  2020-08-10 15:24:17 UTC        {'name': 'EWN', 'url': 'https://ewn.co.za'}  \n4  2020-08-09 12:29:09 UTC    {'name': 'eNCA', 'url': 'https://www.enca.com'}  \n5  2020-08-10 10:02:00 UTC  {'name': 'Goal.com', 'url': 'https://www.goal....  \n6  2020-08-10 13:00:11 UTC  {'name': 'News24', 'url': 'https://www.news24....  \n7  2020-08-10 12:13:00 UTC  {'name': 'TimesLIVE', 'url': 'https://www.time...  \n8  2020-08-10 10:41:15 UTC        {'name': 'EWN', 'url': 'https://ewn.co.za'}  \n9  2020-08-10 12:15:00 UTC    {'name': 'IOL', 'url': 'https://www.iol.co.za'}  ",
      "text/html": "<div>\n<style scoped>\n    .dataframe tbody tr th:only-of-type {\n        vertical-align: middle;\n    }\n\n    .dataframe tbody tr th {\n        vertical-align: top;\n    }\n\n    .dataframe thead th {\n        text-align: right;\n    }\n</style>\n<table border=\"1\" class=\"dataframe\">\n  <thead>\n    <tr style=\"text-align: right;\">\n      <th></th>\n      <th>title</th>\n      <th>description</th>\n      <th>url</th>\n      <th>image</th>\n      <th>publishedAt</th>\n      <th>source</th>\n    </tr>\n  </thead>\n  <tbody>\n    <tr>\n      <th>0</th>\n      <td>Broadcasting legend Bob Mabena dies at 51</td>\n      <td></td>\n      <td>https://news.google.com/__i/rss/rd/articles/CB...</td>\n      <td>None</td>\n      <td>2020-08-10 15:27:32 UTC</td>\n      <td>{'name': 'eNCA', 'url': 'https://www.enca.com'}</td>\n    </tr>\n    <tr>\n      <th>1</th>\n      <td>Guptas: Fugitive family now selling herbal med...</td>\n      <td></td>\n      <td>https://news.google.com/__i/rss/rd/articles/CB...</td>\n      <td>None</td>\n      <td>2020-08-10 09:00:31 UTC</td>\n      <td>{'name': 'News24', 'url': 'https://www.news24....</td>\n    </tr>\n    <tr>\n      <th>2</th>\n      <td>No human rights abuse in Zimbabwe: Mnangangwa</td>\n      <td></td>\n      <td>https://news.google.com/__i/rss/rd/articles/CB...</td>\n      <td>None</td>\n      <td>2020-08-10 11:50:00 UTC</td>\n      <td>{'name': 'SowetanLIVE', 'url': 'https://www.so...</td>\n    </tr>\n    <tr>\n      <th>3</th>\n      <td>Ramaphosa: We will speed up process of giving ...</td>\n      <td></td>\n      <td>https://news.google.com/__i/rss/rd/articles/CB...</td>\n      <td>None</td>\n      <td>2020-08-10 15:24:17 UTC</td>\n      <td>{'name': 'EWN', 'url': 'https://ewn.co.za'}</td>\n    </tr>\n    <tr>\n      <th>4</th>\n      <td>Mauritius struggles to contain oil spill pollu...</td>\n      <td></td>\n      <td>https://news.google.com/__i/rss/rd/articles/CB...</td>\n      <td>None</td>\n      <td>2020-08-09 12:29:09 UTC</td>\n      <td>{'name': 'eNCA', 'url': 'https://www.enca.com'}</td>\n    </tr>\n    <tr>\n      <th>5</th>\n      <td>Mamelodi Sundowns vs Orlando Pirates: Five pla...</td>\n      <td></td>\n      <td>https://news.google.com/__i/rss/rd/articles/CB...</td>\n      <td>None</td>\n      <td>2020-08-10 10:02:00 UTC</td>\n      <td>{'name': 'Goal.com', 'url': 'https://www.goal....</td>\n    </tr>\n    <tr>\n      <th>6</th>\n      <td>Covid-19 corruption: 'ANC going through a sham...</td>\n      <td></td>\n      <td>https://news.google.com/__i/rss/rd/articles/CB...</td>\n      <td>None</td>\n      <td>2020-08-10 13:00:11 UTC</td>\n      <td>{'name': 'News24', 'url': 'https://www.news24....</td>\n    </tr>\n    <tr>\n      <th>7</th>\n      <td>MEC Lebogang Maile eats humble pie, apologises...</td>\n      <td></td>\n      <td>https://news.google.com/__i/rss/rd/articles/CB...</td>\n      <td>None</td>\n      <td>2020-08-10 12:13:00 UTC</td>\n      <td>{'name': 'TimesLIVE', 'url': 'https://www.time...</td>\n    </tr>\n    <tr>\n      <th>8</th>\n      <td>Mkhize denies owning PPE company, warns public...</td>\n      <td></td>\n      <td>https://news.google.com/__i/rss/rd/articles/CB...</td>\n      <td>None</td>\n      <td>2020-08-10 10:41:15 UTC</td>\n      <td>{'name': 'EWN', 'url': 'https://ewn.co.za'}</td>\n    </tr>\n    <tr>\n      <th>9</th>\n      <td>6 670 new Covid-19 cases brings SA's cumulativ...</td>\n      <td></td>\n      <td>https://news.google.com/__i/rss/rd/articles/CB...</td>\n      <td>None</td>\n      <td>2020-08-10 12:15:00 UTC</td>\n      <td>{'name': 'IOL', 'url': 'https://www.iol.co.za'}</td>\n    </tr>\n  </tbody>\n</table>\n</div>"
     },
     "metadata": {},
     "execution_count": 50
    }
   ],
   "source": [
    "pd.DataFrame(response.json()[\"articles\"])"
   ]
  },
  {
   "cell_type": "code",
   "execution_count": null,
   "metadata": {},
   "outputs": [],
   "source": [
    "url = ('http://newsapi.org/v2/top-headlines?'\n",
    "       'country=za&'\n",
    "       'apiKey=17d9dbba945d4b1e8b1ed978c7d41867')\n",
    "response = requests.get(url)"
   ]
  },
  {
   "cell_type": "code",
   "execution_count": 27,
   "metadata": {},
   "outputs": [],
   "source": [
    "def get_data():\n",
    "    url = ('http://newsapi.org/v2/top-headlines?'\n",
    "       'country=za&'\n",
    "       'apiKey=17d9dbba945d4b1e8b1ed978c7d41867')\n",
    "    response = requests.get(url)\n",
    "    print(response.json()[\"status\"], \"\\nTotal Results:\", response.json()['totalResults'])\n",
    "    data = pd.DataFrame(response.json()[\"articles\"])\n",
    "    data['source'] = data['source'].apply(lambda info: info['name'])\n",
    "    return data"
   ]
  },
  {
   "cell_type": "code",
   "execution_count": 32,
   "metadata": {
    "tags": []
   },
   "outputs": [
    {
     "output_type": "stream",
     "name": "stdout",
     "text": "ok \nTotal Results: 38\n"
    }
   ],
   "source": [
    "data = get_data()"
   ]
  },
  {
   "cell_type": "code",
   "execution_count": 33,
   "metadata": {},
   "outputs": [
    {
     "output_type": "execute_result",
     "data": {
      "text/plain": "                       source  \\\n0                      News24   \n1                      News24   \n2           The South African   \n3   The Sydney Morning Herald   \n4                 Google News   \n5           The South African   \n6                         EWN   \n7                      News24   \n8                         EWN   \n9                      News24   \n10            Digital Journal   \n11                 SuperSport   \n12       Aviationanalysis.net   \n13      Alabama's News Leader   \n14                        IOL   \n15                   CBS News   \n16          Business Standard   \n17                       eNCA   \n18              Sporting News   \n19                  TimesLIVE   \n\n                                               author  \\\n0                                                None   \n1                                                None   \n2                                      Farrial Isaacs   \n3                                                None   \n4                                                None   \n5                                       Lotto Results   \n6                                     Eyewitness News   \n7                                                None   \n8                                     Eyewitness News   \n9                                                None   \n10                                               None   \n11                                               None   \n12                                Moses R. Yarborough   \n13  NICOLE WINFIELD and LISA MARIE PANE, Associate...   \n14                                     Staff Reporter   \n15                                       Sophie Lewis   \n16                               Press Trust of India   \n17                                               None   \n18                                      Sporting News   \n19                                     Deepika Naidoo   \n\n                                                title  \\\n0   18 new Covid-19 deaths recorded in the Western...   \n1   Maile apologises for threatening text, but Tsh...   \n2   Google: Android is launching new Nearby Share ...   \n3   'Broken America': Grim US coronavirus mileston...   \n4   Spigen's robust case collection will protect y...   \n5   Daily Lotto results for Sunday, 9 August 2020 ...   \n6   President Ramaphosa congratulates Brad Binder ...   \n7   ANCWL, MKMVA call for action against 'treacher...   \n8   We can’t ignore deafening cries of women for p...   \n9   Furious Lebanese plan new protests over Beirut...   \n10  Op-Ed: America has lost global credibility ove...   \n11  Verstappen wins 70th Anniversary Grand Prix, H...   \n12  The Hubble House Telescope has observed its fi...   \n13  US hits 5 million confirmed virus cases, Europ...   \n14  Zuma tweets cheeky apology to Derek Hanekom fo...   \n15  NASA drops \"insensitive\" nicknames for cosmic ...   \n16  Little evidence coronavirus transmitted in sch...   \n17  Mauritius struggles to contain oil spill pollu...   \n18  Bidvest Wits have mileage in the legs to respo...   \n19  Pearl Thusi weighs in on Instagram copying Tik...   \n\n                                          description  \\\n0     So far, 3 392 people have died in the province.   \n1   Gauteng Human Settlements MEC Lebogang Maile h...   \n2   Nearby Share lets people quickly send files to...   \n3   Confirmed coronavirus cases in the US hit 5 mi...   \n4                                                None   \n5   Today’s DAILY LOTTO jackpot is estimated at R2...   \n6   Binder became the first South African on Sunda...   \n7   The ANC Women's League and Umkhonto weSizwe Mi...   \n8   The president on Sunday said South Africans ha...   \n9   Lebanese protesters say they will rally again ...   \n10  With confirmed coronavirus cases in the U.S. r...   \n11  Max Verstappen delivered Red Bull's first vict...   \n12  TORONTO -- The initially lunar eclipse ever no...   \n13  ROME (AP) &mdash; With confirmed coronavirus c...   \n14  Jacob Zuma has issued an apology to Derek Hane...   \n15  The space agency will no longer use nicknames ...   \n16  One of the world's largest studies of its kind...   \n17  Thousands of Mauritians raced to contain a cat...   \n18  Two Atletico Madrid players have tested positi...   \n19  Queen Sono actress Pearl Thusi calls out Faceb...   \n\n                                                  url  \\\n0   https://www.news24.com/news24/southafrica/news...   \n1   https://www.news24.com/news24/southafrica/news...   \n2   https://www.thesouthafrican.com/technology/and...   \n3   https://www.smh.com.au/world/north-america/bro...   \n4   https://news.google.com/__i/rss/rd/articles/CB...   \n5   https://www.thesouthafrican.com/lotto-results/...   \n6   https://ewn.co.za/2020/08/09/president-ramapho...   \n7   https://www.news24.com/news24/southafrica/news...   \n8   https://ewn.co.za/2020/08/09/we-can-t-ignore-d...   \n9   https://www.news24.com/news24/world/news/furio...   \n10  http://www.digitaljournal.com/news/politics/op...   \n11  https://supersport.com/motorsport/formula1/new...   \n12  https://www.aviationanalysis.net/the-hubble-ho...   \n13  http://abc3340.com/news/nation-world/us-hits-5...   \n14  https://www.iol.co.za/news/politics/zuma-tweet...   \n15  https://www.cbsnews.com/news/nasa-drops-eskimo...   \n16  https://www.business-standard.com/article/inte...   \n17  https://www.enca.com/news/mauritius-struggles-...   \n18             https://www.sportingnews.com/ca/soccer   \n19  https://www.timeslive.co.za/tshisa-live/tshisa...   \n\n                                           urlToImage           publishedAt  \\\n0   https://cdn.24.co.za/files/Cms/General/d/10320...  2020-08-09T18:59:11Z   \n1   https://cdn.24.co.za/files/Cms/General/d/10170...  2020-08-09T18:37:03Z   \n2   https://gcs.thesouthafrican.com/2020/08/8e9147...  2020-08-09T18:00:34Z   \n3   https://static.ffx.io/images/$zoom_0.2315%2C$m...  2020-08-09T17:12:00Z   \n4                                                None  2020-08-09T17:02:00Z   \n5   https://gcs.thesouthafrican.com/2019/09/7c7d04...  2020-08-09T17:01:49Z   \n6   http://cdn.primedia.co.za/primedia-broadcastin...  2020-08-09T16:48:43Z   \n7   https://cdn.24.co.za/files/Cms/General/d/7033/...  2020-08-09T16:43:19Z   \n8   http://cdn.primedia.co.za/primedia-broadcastin...  2020-08-09T16:34:59Z   \n9   https://cdn.24.co.za/files/Cms/General/d/10388...  2020-08-09T16:32:17Z   \n10  http://www.digitaljournal.com/img/1/0/4/8/0/9/...  2020-08-09T16:05:04Z   \n11  https://ssio.azurewebsites.net/x500,q75,jpeg/h...  2020-08-09T16:01:48Z   \n12                                               None  2020-08-09T15:27:40Z   \n13  http://static-33.sinclairstoryline.com/resourc...  2020-08-09T14:50:00Z   \n14  https://image-prod.iol.co.za/resize/600x366?so...  2020-08-09T14:48:45Z   \n15  https://cbsnews2.cbsistatic.com/hub/i/r/2020/0...  2020-08-09T14:44:00Z   \n16  https://bsmedia.business-standard.com/_media/b...  2020-08-09T13:07:00Z   \n17  https://www.enca.com/sites/default/files/style...  2020-08-09T12:29:09Z   \n18  https://images.daznservices.com/di/library/spo...  2020-08-09T12:07:00Z   \n19  https://lh3.googleusercontent.com/alh9PSGMoSwK...  2020-08-09T12:00:00Z   \n\n                                              content  \n0   <ul><li>The Western Cape has recorded an addit...  \n1   <ul><li>Gauteng Human Settlements MEC Lebogang...  \n2   Google is launching a tool called Nearby Share...  \n3   \"Dont they care about their health?\" a mask-cl...  \n4                                                None  \n5   Our offices are for administrative purposes on...  \n6   Binder became the first South African on Sunda...  \n7   <ul><li>The ANCWL and MKMVA have hit out at AN...  \n8   The president on Sunday said South Africans ha...  \n9   <ul><li>One policeman has been killed and more...  \n10  <table><tr><td><table><tr><td>With confirmed c...  \n11  {\"slug\":\"motorsport\",\"name\":\"Motorsport\",\"menu...  \n12  TORONTO —The initially lunar eclipse ever noti...  \n13                                               None  \n14  By Staff Reporter2h ago\\r\\nJohannesburg Former...  \n15  NASA is joining the ever-growing list of organ...  \n16  One of the world's largest studies of its kind...  \n17  PORT LOUIS - Thousands of Mauritians raced to ...  \n18                                               None  \n19                                               None  ",
      "text/html": "<div>\n<style scoped>\n    .dataframe tbody tr th:only-of-type {\n        vertical-align: middle;\n    }\n\n    .dataframe tbody tr th {\n        vertical-align: top;\n    }\n\n    .dataframe thead th {\n        text-align: right;\n    }\n</style>\n<table border=\"1\" class=\"dataframe\">\n  <thead>\n    <tr style=\"text-align: right;\">\n      <th></th>\n      <th>source</th>\n      <th>author</th>\n      <th>title</th>\n      <th>description</th>\n      <th>url</th>\n      <th>urlToImage</th>\n      <th>publishedAt</th>\n      <th>content</th>\n    </tr>\n  </thead>\n  <tbody>\n    <tr>\n      <th>0</th>\n      <td>News24</td>\n      <td>None</td>\n      <td>18 new Covid-19 deaths recorded in the Western...</td>\n      <td>So far, 3 392 people have died in the province.</td>\n      <td>https://www.news24.com/news24/southafrica/news...</td>\n      <td>https://cdn.24.co.za/files/Cms/General/d/10320...</td>\n      <td>2020-08-09T18:59:11Z</td>\n      <td>&lt;ul&gt;&lt;li&gt;The Western Cape has recorded an addit...</td>\n    </tr>\n    <tr>\n      <th>1</th>\n      <td>News24</td>\n      <td>None</td>\n      <td>Maile apologises for threatening text, but Tsh...</td>\n      <td>Gauteng Human Settlements MEC Lebogang Maile h...</td>\n      <td>https://www.news24.com/news24/southafrica/news...</td>\n      <td>https://cdn.24.co.za/files/Cms/General/d/10170...</td>\n      <td>2020-08-09T18:37:03Z</td>\n      <td>&lt;ul&gt;&lt;li&gt;Gauteng Human Settlements MEC Lebogang...</td>\n    </tr>\n    <tr>\n      <th>2</th>\n      <td>The South African</td>\n      <td>Farrial Isaacs</td>\n      <td>Google: Android is launching new Nearby Share ...</td>\n      <td>Nearby Share lets people quickly send files to...</td>\n      <td>https://www.thesouthafrican.com/technology/and...</td>\n      <td>https://gcs.thesouthafrican.com/2020/08/8e9147...</td>\n      <td>2020-08-09T18:00:34Z</td>\n      <td>Google is launching a tool called Nearby Share...</td>\n    </tr>\n    <tr>\n      <th>3</th>\n      <td>The Sydney Morning Herald</td>\n      <td>None</td>\n      <td>'Broken America': Grim US coronavirus mileston...</td>\n      <td>Confirmed coronavirus cases in the US hit 5 mi...</td>\n      <td>https://www.smh.com.au/world/north-america/bro...</td>\n      <td>https://static.ffx.io/images/$zoom_0.2315%2C$m...</td>\n      <td>2020-08-09T17:12:00Z</td>\n      <td>\"Dont they care about their health?\" a mask-cl...</td>\n    </tr>\n    <tr>\n      <th>4</th>\n      <td>Google News</td>\n      <td>None</td>\n      <td>Spigen's robust case collection will protect y...</td>\n      <td>None</td>\n      <td>https://news.google.com/__i/rss/rd/articles/CB...</td>\n      <td>None</td>\n      <td>2020-08-09T17:02:00Z</td>\n      <td>None</td>\n    </tr>\n    <tr>\n      <th>5</th>\n      <td>The South African</td>\n      <td>Lotto Results</td>\n      <td>Daily Lotto results for Sunday, 9 August 2020 ...</td>\n      <td>Today’s DAILY LOTTO jackpot is estimated at R2...</td>\n      <td>https://www.thesouthafrican.com/lotto-results/...</td>\n      <td>https://gcs.thesouthafrican.com/2019/09/7c7d04...</td>\n      <td>2020-08-09T17:01:49Z</td>\n      <td>Our offices are for administrative purposes on...</td>\n    </tr>\n    <tr>\n      <th>6</th>\n      <td>EWN</td>\n      <td>Eyewitness News</td>\n      <td>President Ramaphosa congratulates Brad Binder ...</td>\n      <td>Binder became the first South African on Sunda...</td>\n      <td>https://ewn.co.za/2020/08/09/president-ramapho...</td>\n      <td>http://cdn.primedia.co.za/primedia-broadcastin...</td>\n      <td>2020-08-09T16:48:43Z</td>\n      <td>Binder became the first South African on Sunda...</td>\n    </tr>\n    <tr>\n      <th>7</th>\n      <td>News24</td>\n      <td>None</td>\n      <td>ANCWL, MKMVA call for action against 'treacher...</td>\n      <td>The ANC Women's League and Umkhonto weSizwe Mi...</td>\n      <td>https://www.news24.com/news24/southafrica/news...</td>\n      <td>https://cdn.24.co.za/files/Cms/General/d/7033/...</td>\n      <td>2020-08-09T16:43:19Z</td>\n      <td>&lt;ul&gt;&lt;li&gt;The ANCWL and MKMVA have hit out at AN...</td>\n    </tr>\n    <tr>\n      <th>8</th>\n      <td>EWN</td>\n      <td>Eyewitness News</td>\n      <td>We can’t ignore deafening cries of women for p...</td>\n      <td>The president on Sunday said South Africans ha...</td>\n      <td>https://ewn.co.za/2020/08/09/we-can-t-ignore-d...</td>\n      <td>http://cdn.primedia.co.za/primedia-broadcastin...</td>\n      <td>2020-08-09T16:34:59Z</td>\n      <td>The president on Sunday said South Africans ha...</td>\n    </tr>\n    <tr>\n      <th>9</th>\n      <td>News24</td>\n      <td>None</td>\n      <td>Furious Lebanese plan new protests over Beirut...</td>\n      <td>Lebanese protesters say they will rally again ...</td>\n      <td>https://www.news24.com/news24/world/news/furio...</td>\n      <td>https://cdn.24.co.za/files/Cms/General/d/10388...</td>\n      <td>2020-08-09T16:32:17Z</td>\n      <td>&lt;ul&gt;&lt;li&gt;One policeman has been killed and more...</td>\n    </tr>\n    <tr>\n      <th>10</th>\n      <td>Digital Journal</td>\n      <td>None</td>\n      <td>Op-Ed: America has lost global credibility ove...</td>\n      <td>With confirmed coronavirus cases in the U.S. r...</td>\n      <td>http://www.digitaljournal.com/news/politics/op...</td>\n      <td>http://www.digitaljournal.com/img/1/0/4/8/0/9/...</td>\n      <td>2020-08-09T16:05:04Z</td>\n      <td>&lt;table&gt;&lt;tr&gt;&lt;td&gt;&lt;table&gt;&lt;tr&gt;&lt;td&gt;With confirmed c...</td>\n    </tr>\n    <tr>\n      <th>11</th>\n      <td>SuperSport</td>\n      <td>None</td>\n      <td>Verstappen wins 70th Anniversary Grand Prix, H...</td>\n      <td>Max Verstappen delivered Red Bull's first vict...</td>\n      <td>https://supersport.com/motorsport/formula1/new...</td>\n      <td>https://ssio.azurewebsites.net/x500,q75,jpeg/h...</td>\n      <td>2020-08-09T16:01:48Z</td>\n      <td>{\"slug\":\"motorsport\",\"name\":\"Motorsport\",\"menu...</td>\n    </tr>\n    <tr>\n      <th>12</th>\n      <td>Aviationanalysis.net</td>\n      <td>Moses R. Yarborough</td>\n      <td>The Hubble House Telescope has observed its fi...</td>\n      <td>TORONTO -- The initially lunar eclipse ever no...</td>\n      <td>https://www.aviationanalysis.net/the-hubble-ho...</td>\n      <td>None</td>\n      <td>2020-08-09T15:27:40Z</td>\n      <td>TORONTO —The initially lunar eclipse ever noti...</td>\n    </tr>\n    <tr>\n      <th>13</th>\n      <td>Alabama's News Leader</td>\n      <td>NICOLE WINFIELD and LISA MARIE PANE, Associate...</td>\n      <td>US hits 5 million confirmed virus cases, Europ...</td>\n      <td>ROME (AP) &amp;mdash; With confirmed coronavirus c...</td>\n      <td>http://abc3340.com/news/nation-world/us-hits-5...</td>\n      <td>http://static-33.sinclairstoryline.com/resourc...</td>\n      <td>2020-08-09T14:50:00Z</td>\n      <td>None</td>\n    </tr>\n    <tr>\n      <th>14</th>\n      <td>IOL</td>\n      <td>Staff Reporter</td>\n      <td>Zuma tweets cheeky apology to Derek Hanekom fo...</td>\n      <td>Jacob Zuma has issued an apology to Derek Hane...</td>\n      <td>https://www.iol.co.za/news/politics/zuma-tweet...</td>\n      <td>https://image-prod.iol.co.za/resize/600x366?so...</td>\n      <td>2020-08-09T14:48:45Z</td>\n      <td>By Staff Reporter2h ago\\r\\nJohannesburg Former...</td>\n    </tr>\n    <tr>\n      <th>15</th>\n      <td>CBS News</td>\n      <td>Sophie Lewis</td>\n      <td>NASA drops \"insensitive\" nicknames for cosmic ...</td>\n      <td>The space agency will no longer use nicknames ...</td>\n      <td>https://www.cbsnews.com/news/nasa-drops-eskimo...</td>\n      <td>https://cbsnews2.cbsistatic.com/hub/i/r/2020/0...</td>\n      <td>2020-08-09T14:44:00Z</td>\n      <td>NASA is joining the ever-growing list of organ...</td>\n    </tr>\n    <tr>\n      <th>16</th>\n      <td>Business Standard</td>\n      <td>Press Trust of India</td>\n      <td>Little evidence coronavirus transmitted in sch...</td>\n      <td>One of the world's largest studies of its kind...</td>\n      <td>https://www.business-standard.com/article/inte...</td>\n      <td>https://bsmedia.business-standard.com/_media/b...</td>\n      <td>2020-08-09T13:07:00Z</td>\n      <td>One of the world's largest studies of its kind...</td>\n    </tr>\n    <tr>\n      <th>17</th>\n      <td>eNCA</td>\n      <td>None</td>\n      <td>Mauritius struggles to contain oil spill pollu...</td>\n      <td>Thousands of Mauritians raced to contain a cat...</td>\n      <td>https://www.enca.com/news/mauritius-struggles-...</td>\n      <td>https://www.enca.com/sites/default/files/style...</td>\n      <td>2020-08-09T12:29:09Z</td>\n      <td>PORT LOUIS - Thousands of Mauritians raced to ...</td>\n    </tr>\n    <tr>\n      <th>18</th>\n      <td>Sporting News</td>\n      <td>Sporting News</td>\n      <td>Bidvest Wits have mileage in the legs to respo...</td>\n      <td>Two Atletico Madrid players have tested positi...</td>\n      <td>https://www.sportingnews.com/ca/soccer</td>\n      <td>https://images.daznservices.com/di/library/spo...</td>\n      <td>2020-08-09T12:07:00Z</td>\n      <td>None</td>\n    </tr>\n    <tr>\n      <th>19</th>\n      <td>TimesLIVE</td>\n      <td>Deepika Naidoo</td>\n      <td>Pearl Thusi weighs in on Instagram copying Tik...</td>\n      <td>Queen Sono actress Pearl Thusi calls out Faceb...</td>\n      <td>https://www.timeslive.co.za/tshisa-live/tshisa...</td>\n      <td>https://lh3.googleusercontent.com/alh9PSGMoSwK...</td>\n      <td>2020-08-09T12:00:00Z</td>\n      <td>None</td>\n    </tr>\n  </tbody>\n</table>\n</div>"
     },
     "metadata": {},
     "execution_count": 33
    }
   ],
   "source": [
    "data"
   ]
  },
  {
   "cell_type": "code",
   "execution_count": 36,
   "metadata": {},
   "outputs": [],
   "source": [
    "def upload_data(dat, conn_to):\n",
    "    dat.to_sql(\"articles\", con = conn_to, if_exists = \"replace\", index = \"False\", schema = \"news-api\")"
   ]
  },
  {
   "cell_type": "code",
   "execution_count": 37,
   "metadata": {},
   "outputs": [],
   "source": [
    "upload_data(data, conn)"
   ]
  },
  {
   "cell_type": "code",
   "execution_count": null,
   "metadata": {},
   "outputs": [],
   "source": []
  }
 ]
}